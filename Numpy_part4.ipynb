{
 "cells": [
  {
   "cell_type": "markdown",
   "id": "2c4af836-ee4d-4320-b8b3-8942e3e9cbf0",
   "metadata": {},
   "source": [
    "# Numpy Array functions\n",
    "\n",
    "# Search\n",
    "Search array : Search an array for a certain array for a certain value and return the indexes that get a match in any dimensions. And use keyword where"
   ]
  },
  {
   "cell_type": "code",
   "execution_count": 3,
   "id": "c7295f1d-210c-4ee0-80ba-99166158eea7",
   "metadata": {},
   "outputs": [
    {
     "name": "stdout",
     "output_type": "stream",
     "text": [
      "(array([ 4, 13, 14]),)\n",
      "\n",
      "(array([ 1,  5,  6,  7,  8, 11, 16]),)\n"
     ]
    }
   ],
   "source": [
    "import numpy as np\n",
    "\n",
    "arr = np.array([1,2,3,5,7,6,78,4,90,33,55,6,3,7,7,9,4])\n",
    "x = np.where( arr == 7)\n",
    "print(x)\n",
    "print()\n",
    "x1 = np.where( (arr%2) == 0)\n",
    "print(x1)"
   ]
  },
  {
   "cell_type": "markdown",
   "id": "b84c3791-3bf1-428d-a43a-452720faf18b",
   "metadata": {},
   "source": [
    "Search sorted array: In this, we insert an element in a sorted array perform a binary search in the array and return the index where the specified value would be inserted."
   ]
  },
  {
   "cell_type": "code",
   "execution_count": 20,
   "id": "1394059b-0d38-45b6-a5f6-7e5cfeffe308",
   "metadata": {},
   "outputs": [
    {
     "name": "stdout",
     "output_type": "stream",
     "text": [
      "4\n",
      "\n",
      "\n",
      "[4 4]\n"
     ]
    }
   ],
   "source": [
    "var = np.array([1,2,3,4,7,8,9])\n",
    "x = np.searchsorted( var,5,side = \"right\")\n",
    "print(x)\n",
    "print()\n",
    "x1 = np.searchsorted( var,[5,6],side = \"right\") #pass a list\n",
    "print()\n",
    "print(x1)"
   ]
  },
  {
   "cell_type": "markdown",
   "id": "2728e38c-e96d-4b00-8f15-ad260617067e",
   "metadata": {},
   "source": [
    "# Sort "
   ]
  },
  {
   "cell_type": "markdown",
   "id": "d5650c1d-0688-449f-bea8-2904ee2b7555",
   "metadata": {},
   "source": [
    "Sorted array: Ordered sequence is any sequences that has an order corresponding to the elements like number or alphabetical ascending or descending."
   ]
  },
  {
   "cell_type": "code",
   "execution_count": 27,
   "id": "d2d574d9-937e-497a-85a1-0e5248cc7771",
   "metadata": {},
   "outputs": [
    {
     "name": "stdout",
     "output_type": "stream",
     "text": [
      "[ 1  2  3  3  4  4  5  6  6  7  7  7  9 33 55 78 90]\n"
     ]
    }
   ],
   "source": [
    "s_arr = np.array([1,2,3,5,7,6,78,4,90,33,55,6,3,7,7,9,4])\n",
    "arr1d = np.sort( s_arr)\n",
    "print(arr1d)"
   ]
  },
  {
   "cell_type": "code",
   "execution_count": 29,
   "id": "32c729ad-3a89-4d8c-a015-88fd5e50c033",
   "metadata": {},
   "outputs": [
    {
     "name": "stdout",
     "output_type": "stream",
     "text": [
      "['a' 'g' 'h' 'k' 'y']\n"
     ]
    }
   ],
   "source": [
    "arr = np.array([\"a\",\"h\",\"k\",\"y\",\"g\"])\n",
    "arr1d = np.sort(arr)\n",
    "print(arr1d)"
   ]
  },
  {
   "cell_type": "code",
   "execution_count": 35,
   "id": "8d4488e6-b1c9-4555-b935-4e27ce103d96",
   "metadata": {},
   "outputs": [
    {
     "name": "stdout",
     "output_type": "stream",
     "text": [
      "[[ 2  4 99]\n",
      " [ 2  3  3]\n",
      " [ 4  7  8]\n",
      " [ 9 12 98]]\n"
     ]
    }
   ],
   "source": [
    "var = np.array([[4,2,99],[3,2,3],[4,7,8],[9,12,98]])\n",
    "arr1d = np.sort( var)\n",
    "print(arr1d)"
   ]
  },
  {
   "cell_type": "markdown",
   "id": "e5a84496-314c-4322-8ed3-ba178e47a918",
   "metadata": {},
   "source": [
    "# Filter \n",
    "Filter array: In a pre-existing matrix creating a new array will take some elements out of them. For this, we need true and false for which we need an element and for which we don't need an element respectively."
   ]
  },
  {
   "cell_type": "code",
   "execution_count": 11,
   "id": "92b383ee-9cf4-4884-9d78-7655424d53bf",
   "metadata": {},
   "outputs": [
    {
     "name": "stdout",
     "output_type": "stream",
     "text": [
      "[1 5 4]\n",
      "<class 'numpy.ndarray'>\n"
     ]
    }
   ],
   "source": [
    "s_arr = np.array([1,2,3,5,4])\n",
    "f = [True,False,False,True,True]\n",
    "\n",
    "new_var = s_arr[f]\n",
    "print(new_var)\n",
    "print(type(new_var))"
   ]
  },
  {
   "cell_type": "markdown",
   "id": "5dce9656-fec3-458d-98bc-3a3633b6de66",
   "metadata": {},
   "source": [
    "# Some more Functions"
   ]
  },
  {
   "cell_type": "markdown",
   "id": "ea8641bb-17e6-4d87-b56a-248e9dc05a66",
   "metadata": {},
   "source": [
    "# Shuffle"
   ]
  },
  {
   "cell_type": "code",
   "execution_count": 24,
   "id": "90f0527d-0860-44db-8141-7337f44b4e4c",
   "metadata": {},
   "outputs": [
    {
     "name": "stdout",
     "output_type": "stream",
     "text": [
      "[  2   9  23  56   6   2   4  66  34 799  78   3]\n"
     ]
    }
   ],
   "source": [
    "sh_arr = np.array([66,4,2,6,3,9,56,78,2,34,23,799])\n",
    "np.random.shuffle(sh_arr) #every time the data will get shuffled \n",
    "print(sh_arr)"
   ]
  },
  {
   "cell_type": "markdown",
   "id": "a5261516-a01f-4c51-b58b-98cbe38a5315",
   "metadata": {},
   "source": [
    "# Unique"
   ]
  },
  {
   "cell_type": "code",
   "execution_count": 34,
   "id": "fbb41565-3719-47c8-9392-1cb61588cf28",
   "metadata": {},
   "outputs": [
    {
     "name": "stdout",
     "output_type": "stream",
     "text": [
      "(array([ 2,  4,  9, 23, 34, 43, 49, 56, 66, 77]), array([ 3,  1,  4, 15, 13,  8, 14,  5,  0,  2]), array([3, 2, 1, 1, 1, 2, 1, 1, 2, 2]))\n"
     ]
    }
   ],
   "source": [
    "#gets a unique and sorted array and the return index will give an index of each element and the count will give how many\n",
    "#  times each element has been occurred \n",
    "\n",
    "sh_arr = np.array([66,4,77,2,9,56,77,4,43,43,2,66,2,34,49,23])\n",
    "x = np.unique(sh_arr,return_index = True,return_counts = True) \n",
    "print(x)"
   ]
  },
  {
   "cell_type": "markdown",
   "id": "3f72a103-cdd3-4261-80e6-d29162777c8d",
   "metadata": {},
   "source": [
    "# Resize"
   ]
  },
  {
   "cell_type": "code",
   "execution_count": 55,
   "id": "03785ea5-c9ca-47a5-ac6b-4cfc733325f9",
   "metadata": {},
   "outputs": [
    {
     "name": "stdout",
     "output_type": "stream",
     "text": [
      "[[1 2 3]\n",
      " [4 5 6]]\n"
     ]
    }
   ],
   "source": [
    "re_arr = np.array([1,2,3,4,5,6])\n",
    "y = np.resize(re_arr,(2,3))\n",
    "print(y)"
   ]
  },
  {
   "cell_type": "markdown",
   "id": "72460fbe-52b0-4e84-991f-787ab5030058",
   "metadata": {},
   "source": [
    "# Flatten and Ravel\n",
    "Both are performed in 2d array to convert into 1d array"
   ]
  },
  {
   "cell_type": "code",
   "execution_count": 76,
   "id": "3dc4331e-6ce2-4ae2-b68c-c871302f65c1",
   "metadata": {},
   "outputs": [
    {
     "name": "stdout",
     "output_type": "stream",
     "text": [
      "[[1 2 3]\n",
      " [4 5 6]]\n",
      "\n",
      "[1 2 3 4 5 6]\n",
      "\n",
      "[1 2 3 4 5 6]\n",
      "\n",
      "Faltten order :  [1 4 2 5 3 6]\n",
      "\n",
      "Ravel order :  [1 2 3 4 5 6]\n",
      "\n",
      "Ravel order :  [1 2 3 4 5 6]\n"
     ]
    }
   ],
   "source": [
    "re_arr = np.array([1,2,3,4,5,6])\n",
    "y = np.resize(re_arr,(2,3))\n",
    "print(y)\n",
    "\n",
    "print()\n",
    "print(y.flatten()) #After the resizing the array back to 1d array using flatten\n",
    "print()\n",
    "print(y.flatten(order = \"c\")) #  order c means row wise WHICH is default\n",
    "print() \n",
    "print(\"Faltten order : \",y.flatten(order = \"F\"))  #  order F means col wise\n",
    "print()\n",
    "print(\"Ravel order : \",y.ravel())\n",
    "print()\n",
    "print(\"Ravel order : \",y.ravel(order = \"A\")) #Fistly it will check the order then weather it is r or c and it will convert into vise versa"
   ]
  },
  {
   "cell_type": "markdown",
   "id": "61636d23-e08d-4f0b-91af-efea0e7c7de4",
   "metadata": {},
   "source": [
    "# Insert and Delete in array "
   ]
  },
  {
   "cell_type": "code",
   "execution_count": 129,
   "id": "caa4cc43-d8b9-4d97-a479-d93a00c40969",
   "metadata": {},
   "outputs": [
    {
     "name": "stdout",
     "output_type": "stream",
     "text": [
      "[1 2 3 4 5 6]\n",
      "\n",
      "[ 1  2  3  4 44  5  6]\n",
      "\n",
      "[1 2 3 4 9 5 6]\n",
      "\n",
      "[1.  2.  3.  4.  5.  6.  9.5]\n"
     ]
    }
   ],
   "source": [
    "ins_arr = np.array([1,2,3,4,5,6])\n",
    "\n",
    "print(ins_arr)\n",
    "print()\n",
    "v = np.insert(ins_arr,4,44)\n",
    "print(v)\n",
    "print()\n",
    "float_val = np.insert(ins_arr,4,9.5) #insert only numerical value no decimal value will be inserted\n",
    "print(float_val)\n",
    "print()\n",
    "float_val = np.append(ins_arr,9.5) # inserting using append function but you cnt give the index \n",
    "print(float_val)"
   ]
  },
  {
   "cell_type": "code",
   "execution_count": 139,
   "id": "a809a37a-db30-4fdc-a292-d5b5c3222c6f",
   "metadata": {},
   "outputs": [
    {
     "name": "stdout",
     "output_type": "stream",
     "text": [
      "[[1 2 3]\n",
      " [4 5 6]]\n",
      "\n",
      "[[1 2 3 4]\n",
      " [4 5 6 4]]\n",
      "\n",
      "[[1 2 3]\n",
      " [4 5 6]\n",
      " [4 8 9]]\n",
      "\n",
      "[[1 2 3]\n",
      " [4 5 6]\n",
      " [7 2 2]]\n"
     ]
    }
   ],
   "source": [
    "ins_arr2d = np.array([[1,2,3],[4,5,6]])\n",
    "v2d = np.insert(ins_arr2d,3,4,axis = 1)\n",
    "print(ins_arr2d)\n",
    "print()\n",
    "print(v2d)\n",
    "v2 = np.insert(ins_arr2d,2,[4,8,9],axis = 0) #inserted list \n",
    "print()\n",
    "print(v2)\n",
    "print()\n",
    "float_val = np.append(ins_arr2d,[[7,2,2]],axis = 0) # inserting using append function but you cnt give the index \n",
    "print(float_val)\n"
   ]
  },
  {
   "cell_type": "code",
   "execution_count": 149,
   "id": "1ad1e5f8-d28c-4624-a073-efb12a2e0387",
   "metadata": {},
   "outputs": [
    {
     "name": "stdout",
     "output_type": "stream",
     "text": [
      "[ 1 52 36 46 57  6]\n",
      "\n",
      "[ 1 52 36 57  6]\n"
     ]
    }
   ],
   "source": [
    "# Delete in array \n",
    "del_arr = np.array([1,52,36,46,57,6])\n",
    "\n",
    "print(del_arr)\n",
    "print()\n",
    "v =  np.delete(del_arr,3)\n",
    "print(v)\n"
   ]
  },
  {
   "cell_type": "markdown",
   "id": "c1d62577-fd3c-48c2-acb4-9ce403344fb5",
   "metadata": {},
   "source": [
    "# Matix in array "
   ]
  },
  {
   "cell_type": "code",
   "execution_count": 154,
   "id": "046350ad-ca33-47ea-9e6e-87fe96c73300",
   "metadata": {},
   "outputs": [
    {
     "name": "stdout",
     "output_type": "stream",
     "text": [
      "[[ 1 52 36 46 57  6]]\n",
      "<class 'numpy.matrix'>\n"
     ]
    }
   ],
   "source": [
    "matriz_arr = np.matrix([1,52,36,46,57,6]) # matrix\n",
    "print(matriz_arr)\n",
    "print(type(matriz_arr))"
   ]
  },
  {
   "cell_type": "code",
   "execution_count": 158,
   "id": "11eaf1f8-7bd0-4895-a8f8-23ed4c14f3ce",
   "metadata": {},
   "outputs": [
    {
     "name": "stdout",
     "output_type": "stream",
     "text": [
      "[ 1 52 36 46 57  6]\n",
      "<class 'numpy.ndarray'>\n"
     ]
    }
   ],
   "source": [
    "arr = np.array([1,52,36,46,57,6]) #array\n",
    "print(arr)\n",
    "print(type(arr))"
   ]
  },
  {
   "cell_type": "markdown",
   "id": "b70643bc-47c2-4c57-9b5f-a038a254330f",
   "metadata": {},
   "source": [
    "# Addition in matrix"
   ]
  },
  {
   "cell_type": "code",
   "execution_count": 161,
   "id": "2ef4df9b-345e-445d-a04d-3ef535cdbd25",
   "metadata": {},
   "outputs": [
    {
     "name": "stdout",
     "output_type": "stream",
     "text": [
      "[[  2 104  72  92 114  12]]\n",
      "<class 'numpy.matrix'>\n"
     ]
    }
   ],
   "source": [
    "matriz_arr = np.matrix([1,52,36,46,57,6]) # matrix\n",
    "matriz_arr2 = np.matrix([1,52,36,46,57,6])\n",
    "\n",
    "var = (matriz_arr + matriz_arr2)\n",
    "print(var)\n",
    "print(type(var))"
   ]
  },
  {
   "cell_type": "markdown",
   "id": "1b857fe5-ff0a-40d5-b42e-585ca198373b",
   "metadata": {},
   "source": [
    "# Subtraction in matix "
   ]
  },
  {
   "cell_type": "code",
   "execution_count": 166,
   "id": "904250ac-3a52-4a10-a504-843d66f95f4a",
   "metadata": {},
   "outputs": [
    {
     "name": "stdout",
     "output_type": "stream",
     "text": [
      "[[  1  29  30  42  52 -12]]\n",
      "<class 'numpy.matrix'>\n"
     ]
    }
   ],
   "source": [
    "matriz_arr = np.matrix([1,52,36,46,57,6]) # matrix\n",
    "matriz_arr2 = np.matrix([0,23,6,4,5,18])\n",
    "\n",
    "var = (matriz_arr - matriz_arr2)\n",
    "print(var)\n",
    "print(type(var))"
   ]
  },
  {
   "cell_type": "markdown",
   "id": "78380ba9-7c88-4753-a6d1-19578c425334",
   "metadata": {},
   "source": [
    "# Multiplication in matrix "
   ]
  },
  {
   "cell_type": "code",
   "execution_count": 175,
   "id": "fd98425d-b4c0-449a-b0d8-1fffd3664095",
   "metadata": {},
   "outputs": [
    {
     "name": "stdout",
     "output_type": "stream",
     "text": [
      "[[468 335]\n",
      " [ 36 139]]\n",
      "<class 'numpy.matrix'>\n"
     ]
    }
   ],
   "source": [
    "matriz_arr = np.matrix([[1,52],[5,4]]) # matrix\n",
    "matriz_arr2 = np.matrix([[0,23],[9,6]])\n",
    "\n",
    "var = (matriz_arr * matriz_arr2)\n",
    "print(var)\n",
    "print(type(var))\n"
   ]
  },
  {
   "cell_type": "code",
   "execution_count": 188,
   "id": "1b46d79b-5ceb-4b31-a2e7-ef21c1556917",
   "metadata": {},
   "outputs": [
    {
     "name": "stdout",
     "output_type": "stream",
     "text": [
      "[[100  70]\n",
      " [ 40  28]]\n",
      "<class 'numpy.matrix'>\n"
     ]
    }
   ],
   "source": [
    "matriz_arr = np.matrix([[5,10],[2,4]]) # matrix\n",
    "matriz_arr2 = np.matrix([[2,2],[9,6]])\n",
    "# using dot function \n",
    "print(matriz_arr.dot(matriz_arr2))\n",
    "print(type(matriz_arr.dot(matriz_arr2)))"
   ]
  },
  {
   "cell_type": "markdown",
   "id": "cd14894d-a222-4f2a-966a-151304bc3648",
   "metadata": {},
   "source": [
    "# Multiplication in array with same above "
   ]
  },
  {
   "cell_type": "code",
   "execution_count": 194,
   "id": "22416b57-2c7b-458d-b487-0113eaf373ba",
   "metadata": {},
   "outputs": [
    {
     "name": "stdout",
     "output_type": "stream",
     "text": [
      "[[10 20]\n",
      " [18 24]]\n",
      "<class 'numpy.ndarray'>\n"
     ]
    }
   ],
   "source": [
    "matriz_arr = np.array([[5,10],[2,4]]) # matrix\n",
    "matriz_arr2 = np.array([[2,2],[9,6]])\n",
    "# using dot function \n",
    "print(matriz_arr * matriz_arr2)\n",
    "print(type(matriz_arr * matriz_arr2)) # both multiplication in array and matrix is different "
   ]
  },
  {
   "cell_type": "markdown",
   "id": "a356865e-d22e-4128-9deb-6d78bbfa7fb0",
   "metadata": {},
   "source": [
    "# Transpose of matrix "
   ]
  },
  {
   "cell_type": "code",
   "execution_count": 216,
   "id": "7b92fd49-f9a6-4655-af94-72adb28329e1",
   "metadata": {},
   "outputs": [
    {
     "name": "stdout",
     "output_type": "stream",
     "text": [
      "[[ 5 10]\n",
      " [ 2  4]]\n",
      "2\n",
      "\n",
      "[[ 5  2]\n",
      " [10  4]]\n",
      "\n",
      "[[ 5  2]\n",
      " [10  4]]\n"
     ]
    }
   ],
   "source": [
    "t_arr = np.matrix([[5,10],[2,4]])\n",
    "print(t_arr)\n",
    "print(t_arr.ndim)\n",
    "print()\n",
    "print(np.transpose(t_arr))\n",
    "print()\n",
    "print(t_arr.T) # alternative FOR transpose"
   ]
  },
  {
   "cell_type": "markdown",
   "id": "bae5a546-214f-4a77-bb6f-10f876197753",
   "metadata": {},
   "source": [
    "# Swap axis in array "
   ]
  },
  {
   "cell_type": "code",
   "execution_count": 222,
   "id": "f10f85fb-0d3a-48cc-b92e-addc6a502715",
   "metadata": {},
   "outputs": [
    {
     "name": "stdout",
     "output_type": "stream",
     "text": [
      "[[ 5 10]\n",
      " [ 2  4]]\n",
      "\n",
      "[[ 5  2]\n",
      " [10  4]]\n"
     ]
    }
   ],
   "source": [
    "s_arr = np.array([[5,10],[2,4]])\n",
    "print(s_arr)\n",
    "print()\n",
    "print(np.swapaxes(s_arr,0,1))"
   ]
  },
  {
   "cell_type": "markdown",
   "id": "610ab213-be4f-4ba2-a674-c45772b6fc33",
   "metadata": {},
   "source": [
    "# Swap axis in martix"
   ]
  },
  {
   "cell_type": "code",
   "execution_count": 224,
   "id": "51824f73-40a9-418c-8714-3c676e0751a7",
   "metadata": {},
   "outputs": [
    {
     "name": "stdout",
     "output_type": "stream",
     "text": [
      "[[ 54 150]\n",
      " [ 82 477]]\n",
      "\n",
      "[[ 54  82]\n",
      " [150 477]]\n"
     ]
    }
   ],
   "source": [
    "s_arr = np.matrix([[54,150],[82,477]])\n",
    "print(s_arr)\n",
    "print()\n",
    "print(np.swapaxes(s_arr,0,1))"
   ]
  },
  {
   "cell_type": "markdown",
   "id": "822ef6c2-e116-49d8-ad5c-79051fbedd9b",
   "metadata": {},
   "source": [
    "# Inverse of matrix "
   ]
  },
  {
   "cell_type": "code",
   "execution_count": 227,
   "id": "33073831-ad6d-4ac4-a072-aec27f85f6fd",
   "metadata": {},
   "outputs": [
    {
     "name": "stdout",
     "output_type": "stream",
     "text": [
      "[[1 2]\n",
      " [3 4]]\n",
      "\n",
      "[[-2.   1. ]\n",
      " [ 1.5 -0.5]]\n"
     ]
    }
   ],
   "source": [
    "i_arr = np.matrix([[1,2],[3,4]])\n",
    "print(i_arr)\n",
    "print()\n",
    "print(np.linalg.inv(i_arr))"
   ]
  },
  {
   "cell_type": "markdown",
   "id": "633b1767-aad4-4a74-a8f5-9609f258fcf4",
   "metadata": {},
   "source": [
    "# Power of matrix"
   ]
  },
  {
   "cell_type": "code",
   "execution_count": 234,
   "id": "586e6ef3-7dcc-4bee-9856-9387c61e3b3a",
   "metadata": {},
   "outputs": [
    {
     "name": "stdout",
     "output_type": "stream",
     "text": [
      "[[1 2]\n",
      " [3 4]]\n",
      "\n",
      "[[ 37  54]\n",
      " [ 81 118]]\n",
      "\n",
      "[[1 0]\n",
      " [0 1]]\n",
      "\n",
      "[[ 5.5  -2.5 ]\n",
      " [-3.75  1.75]]\n"
     ]
    }
   ],
   "source": [
    "p_arr = np.matrix([[1,2],[3,4]])\n",
    "print(p_arr)\n",
    "print()\n",
    "print(np.linalg.matrix_power(p_arr,3)) # when n > 0\n",
    "print()\n",
    "print(np.linalg.matrix_power(p_arr,0)) # when n  = 0 identity matrix\n",
    "print()\n",
    "print(np.linalg.matrix_power(p_arr, -2)) # when n  < 0"
   ]
  },
  {
   "cell_type": "markdown",
   "id": "d5c5ff37-3ec9-486c-9862-95f139e1f3f2",
   "metadata": {},
   "source": [
    "# Determinate of matrix"
   ]
  },
  {
   "cell_type": "code",
   "execution_count": 239,
   "id": "6c21fda3-1440-4de8-8e2a-e0b3b2adb006",
   "metadata": {},
   "outputs": [
    {
     "name": "stdout",
     "output_type": "stream",
     "text": [
      "[[1 2]\n",
      " [3 4]]\n",
      "\n",
      "-2.0000000000000004\n"
     ]
    }
   ],
   "source": [
    "d_arr = np.matrix([[1,2],[3,4]])\n",
    "print(d_arr)\n",
    "print()\n",
    "print(np.linalg.det(d_arr))"
   ]
  },
  {
   "cell_type": "code",
   "execution_count": 259,
   "id": "2bce75a3-0b4a-487e-8db6-57602263e857",
   "metadata": {},
   "outputs": [
    {
     "name": "stdout",
     "output_type": "stream",
     "text": [
      "[[5 2]\n",
      " [7 4]]\n",
      "\n",
      "5.999999999999997\n"
     ]
    }
   ],
   "source": [
    "d_arr = np.matrix([[5,2],[7,4]])\n",
    "print(d_arr)\n",
    "print()\n",
    "print(np.linalg.det(d_arr))"
   ]
  },
  {
   "cell_type": "code",
   "execution_count": 269,
   "id": "2ed1ebae-88e9-4b47-8974-39e217eea0aa",
   "metadata": {},
   "outputs": [
    {
     "name": "stdout",
     "output_type": "stream",
     "text": [
      "[[1 2 5]\n",
      " [3 6 3]\n",
      " [5 5 4]]\n",
      "\n",
      "-59.999999999999986\n"
     ]
    }
   ],
   "source": [
    "d_arr = np.matrix([[1,2,5],[3,6,3],[5,5,4]])\n",
    "print(d_arr)\n",
    "print()\n",
    "print(np.linalg.det(d_arr))"
   ]
  },
  {
   "cell_type": "code",
   "execution_count": null,
   "id": "da3a70c3-59ce-420c-b4d3-a9a27aa1eca9",
   "metadata": {},
   "outputs": [],
   "source": []
  }
 ],
 "metadata": {
  "kernelspec": {
   "display_name": "Python 3 (ipykernel)",
   "language": "python",
   "name": "python3"
  },
  "language_info": {
   "codemirror_mode": {
    "name": "ipython",
    "version": 3
   },
   "file_extension": ".py",
   "mimetype": "text/x-python",
   "name": "python",
   "nbconvert_exporter": "python",
   "pygments_lexer": "ipython3",
   "version": "3.12.4"
  }
 },
 "nbformat": 4,
 "nbformat_minor": 5
}
