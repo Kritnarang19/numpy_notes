{
 "cells": [
  {
   "cell_type": "markdown",
   "id": "5b9f8e9f-7894-4b34-aa71-cbd02bd41aed",
   "metadata": {},
   "source": [
    "# Broadcasting in Numpy Array\n",
    "\n",
    "We need to compare the row and column to perform broadcasting.\n",
    "NumPy treats arrays with different shapes during arithmetic operations. \n",
    "The smaller array broadcasts into a larger array to get the compatible array.\n",
    "We compare 2D Array we need to rules \n",
    "1. Shapes are equal, or\n",
    "2. one of them is 1(either of row or column)\n"
   ]
  },
  {
   "cell_type": "code",
   "execution_count": 2,
   "id": "9c45b6c3-d8cf-4e19-9969-d18a04bfc93b",
   "metadata": {},
   "outputs": [
    {
     "name": "stdout",
     "output_type": "stream",
     "text": [
      "[2 4 6 9]\n"
     ]
    }
   ],
   "source": [
    "import numpy as np\n",
    "var1 = np.array([1,2,3,4]) # 1d with same dimension\n",
    "\n",
    "var2 = np.array([1,2,3,5])\n",
    "\n",
    "print(var1+var2)\n"
   ]
  },
  {
   "cell_type": "code",
   "execution_count": 20,
   "id": "2ad1debc-6d3d-4579-b502-5014a9e6e9e3",
   "metadata": {},
   "outputs": [
    {
     "name": "stdout",
     "output_type": "stream",
     "text": [
      "(4,)\n",
      "\n",
      "(3, 1)\n",
      "\n",
      "[[2 3 4 5]\n",
      " [3 4 5 6]\n",
      " [4 5 6 7]]\n"
     ]
    }
   ],
   "source": [
    "var1 = np.array([1,2,3,4]) \n",
    "print(var1.shape)\n",
    "print()\n",
    "var2 = np.array([[1],[2],[3]])\n",
    "print(var2.shape)\n",
    "print()\n",
    "print(var1+var2)# adding with different shape"
   ]
  },
  {
   "cell_type": "code",
   "execution_count": 26,
   "id": "7ff10565-e079-42a5-b866-eea81cf857e7",
   "metadata": {},
   "outputs": [
    {
     "name": "stdout",
     "output_type": "stream",
     "text": [
      "(3,)\n",
      "\n",
      "(1, 1)\n",
      "\n",
      "[[2 3 4]]\n",
      "\n",
      "(1, 3)\n"
     ]
    }
   ],
   "source": [
    "var1 = np.array([1,2,3]) \n",
    "print(var1.shape)\n",
    "print()\n",
    "var2 = np.array([[1]])\n",
    "print(var2.shape)\n",
    "print()\n",
    "print(var1+var2)\n",
    "print()\n",
    "print((var1+var2).shape)# adding with different shape ()"
   ]
  },
  {
   "cell_type": "markdown",
   "id": "b3e98181-2ed2-4316-b8dc-b9c1fd8c6a82",
   "metadata": {},
   "source": [
    "# Indexing in Numpy Array\n",
    "The index will determine the position of an element in the array.\n",
    "Index for an array can be _ve or +ve."
   ]
  },
  {
   "cell_type": "code",
   "execution_count": 39,
   "id": "0434b5d8-97f0-4b7d-b188-736591545f8b",
   "metadata": {},
   "outputs": [
    {
     "name": "stdout",
     "output_type": "stream",
     "text": [
      "4\n",
      "\n",
      "4\n"
     ]
    }
   ],
   "source": [
    "arr_1D = np.array([1,2,3,4,5])\n",
    "\n",
    "print(arr_1D[3]) # it will print 4 as its index is 3\n",
    "print()\n",
    "print(arr_1D[-2]) # it will print 4 as its index is -2"
   ]
  },
  {
   "cell_type": "code",
   "execution_count": 53,
   "id": "9081647b-7907-4524-a915-4c6fc5e1d5e1",
   "metadata": {},
   "outputs": [
    {
     "name": "stdout",
     "output_type": "stream",
     "text": [
      "[[4 5 6]\n",
      " [6 7 8]]\n",
      "(2, 3)\n",
      "\n",
      "8\n"
     ]
    }
   ],
   "source": [
    "arr_2d = np.array([[4,5,6] , [6,7,8]])\n",
    "print(arr_2d)\n",
    "print(arr_2d.shape)\n",
    "print()\n",
    "print(arr_2d[1,2]) # 2d index to find value 8"
   ]
  },
  {
   "cell_type": "code",
   "execution_count": 61,
   "id": "31f7af21-cb57-4797-9ce4-eeae4683961e",
   "metadata": {},
   "outputs": [
    {
     "name": "stdout",
     "output_type": "stream",
     "text": [
      "[[[4 5 6]\n",
      "  [6 7 8]]\n",
      "\n",
      " [[1 2 4]\n",
      "  [7 9 0]]]\n",
      "(2, 2, 3)\n",
      "\n",
      "2\n",
      "0\n",
      "6\n"
     ]
    }
   ],
   "source": [
    "arr_3d = np.array([[[4,5,6] , [6,7,8]],[[1,2,4],[7,9,0]]])\n",
    "print(arr_3d)\n",
    "print(arr_3d.shape)\n",
    "print()\n",
    "print(arr_3d[1,0,1]) # 3d index to find value 2\n",
    "print(arr_3d[1,1,2]) # 3d index to find value 0\n",
    "print(arr_3d[0,1,0]) # 3d index to find value 6"
   ]
  },
  {
   "cell_type": "markdown",
   "id": "f7a31b03-9368-4736-9c3b-2d34e9a46194",
   "metadata": {},
   "source": [
    "# Slicing in Numpy array\n",
    "\n",
    "Syntax : Slicing [Start:stop:step] always stop will be added +1 while indexing as index start with 0"
   ]
  },
  {
   "cell_type": "code",
   "execution_count": 76,
   "id": "02170d05-51fe-4dd2-9d2e-6028dbdbeede",
   "metadata": {},
   "outputs": [
    {
     "name": "stdout",
     "output_type": "stream",
     "text": [
      "[ 1  2  3  4  5  6  7  8  9 10]\n",
      "\n",
      "2 to 5 :  [2 3 4 5]\n",
      "\n",
      "2 to last element :  [ 2  3  4  5  6  7  8  9 10]\n",
      "\n",
      "start to 5t element :  [1 2 3 4 5]\n",
      "\n",
      "stop :  [1 3 5 7 9]\n",
      "\n",
      "stop :  [1 7]\n"
     ]
    }
   ],
   "source": [
    "x = np.array([1,2,3,4,5,6,7,8,9,10]) # 1d with same dimension slicing\n",
    " #            0,1,2,3,4,5,6,7,8,9 index of element\n",
    "print(x)\n",
    "print()\n",
    "print(\"2 to 5 : \",x[1:5]) \n",
    "print()\n",
    "print(\"2 to last element : \",x[1:]) \n",
    "print()\n",
    "print(\"start to 5t element : \",x[:5]) \n",
    "print()\n",
    "print(\"stop : \",x[::2])  # step value is 2 and it will show 2nd value after 2 jump\n",
    "print()\n",
    "print(\"stop : \",x[::6])  # step value is 6 and it will show 2nd value after 6jump"
   ]
  },
  {
   "cell_type": "code",
   "execution_count": 94,
   "id": "fb76413b-26a6-4d46-bd11-10aac7dd6d38",
   "metadata": {},
   "outputs": [
    {
     "name": "stdout",
     "output_type": "stream",
     "text": [
      "\n",
      "5 to 9 :  [5 7 8 6 9]\n",
      "\n",
      "6 to 4 :  [6 8 9 4 2 4]\n",
      "\n",
      "7 to 9 :  [7 9]\n",
      "\n",
      "6 to 4 :  [6 8 9 4 2 4]\n",
      "\n",
      "6 to 2 with step 2 :  [6 9 2]\n"
     ]
    }
   ],
   "source": [
    "# slicing in 2d array\n",
    "x_2d = np.array([[1,7,9,0,8,6],[6,8,9,4,2,4],[4,5,7,8,6,9]])\n",
    "print()\n",
    "print(\"5 to 9 : \",x_2d[2,1:]) \n",
    "print()\n",
    "print(\"6 to 4 : \",x_2d[1,0:]) \n",
    "print()\n",
    "\n",
    "print(\"7 to 9 : \",x_2d[0,1:3]) \n",
    "\n",
    "print()\n",
    "print(\"6 to 4 : \",x_2d[1,0:]) \n",
    "print()\n",
    "print(\"6 to 2 with step 2 : \",x_2d[1,0::2]) "
   ]
  },
  {
   "cell_type": "markdown",
   "id": "5d2e490e-a52a-493f-8bdc-5960fc36a6a9",
   "metadata": {},
   "source": [
    "# Iteration in Numpy array"
   ]
  },
  {
   "cell_type": "code",
   "execution_count": 101,
   "id": "7aaf350e-c033-4acf-9a1f-9daee76444a8",
   "metadata": {},
   "outputs": [
    {
     "name": "stdout",
     "output_type": "stream",
     "text": [
      "9\n",
      "8\n",
      "7\n",
      "6\n",
      "5\n",
      "4\n",
      "3\n",
      "2\n",
      "1\n",
      "0\n"
     ]
    }
   ],
   "source": [
    "#Iteration in 1D Array\n",
    "arr_1d = np.array([9,8,7,6,5,4,3,2,1,0])\n",
    "for i in arr_1d:\n",
    "    print(i)\n",
    "                  "
   ]
  },
  {
   "cell_type": "code",
   "execution_count": 107,
   "id": "07157cea-3458-465b-8e61-36b6b5294d03",
   "metadata": {},
   "outputs": [
    {
     "name": "stdout",
     "output_type": "stream",
     "text": [
      "9\n",
      "8\n",
      "7\n",
      "6\n",
      "5\n",
      "4\n",
      "3\n",
      "2\n",
      "5\n",
      "7\n",
      "9\n",
      "8\n",
      "7\n",
      "7\n"
     ]
    }
   ],
   "source": [
    "#Iteration in 2D Array\n",
    "arr_2d = np.array([[9,8,7,6,5,4,3],[2,5,7,9,8,7,7]])\n",
    "for i in arr_2d:\n",
    "    for j in i:\n",
    "         print(j)\n",
    "   "
   ]
  },
  {
   "cell_type": "code",
   "execution_count": 109,
   "id": "a3a09fb9-5b88-4c3a-816c-e361509cd008",
   "metadata": {},
   "outputs": [
    {
     "name": "stdout",
     "output_type": "stream",
     "text": [
      "1\n",
      "2\n",
      "3\n",
      "4\n",
      "5\n",
      "6\n"
     ]
    }
   ],
   "source": [
    "#Iteration in 3D Array\n",
    "arr_3d = np.array([[[1,2,3],[4,5,6]]])\n",
    "for i in arr_3d:\n",
    "    for j in i:\n",
    "        for k in j:\n",
    "            print(k)"
   ]
  },
  {
   "cell_type": "code",
   "execution_count": 117,
   "id": "53b1d6ff-ac3b-4336-a156-c28fb55784a3",
   "metadata": {},
   "outputs": [
    {
     "name": "stdout",
     "output_type": "stream",
     "text": [
      "b'1'\n",
      "b'2'\n",
      "b'3'\n",
      "b'4'\n",
      "b'5'\n",
      "b'6'\n"
     ]
    }
   ],
   "source": [
    "#If we dnt want to use iteration using for loop use nditer() function\n",
    "\n",
    "#Iteration in 3D Array using nditer fun\n",
    "arr_3d = np.array([[[1,2,3],[4,5,6]]])\n",
    "for i in np.nditer(arr_3d,flags=['buffered'],op_dtypes = ['S']): # changed the data type in string and stored in buffer\n",
    "    print(i)\n",
    "    "
   ]
  },
  {
   "cell_type": "code",
   "execution_count": 121,
   "id": "8430b5d5-51e2-49fe-a914-2a0fc399be2e",
   "metadata": {},
   "outputs": [
    {
     "name": "stdout",
     "output_type": "stream",
     "text": [
      "((0, 0, 0), 1)\n",
      "((0, 0, 1), 2)\n",
      "((0, 0, 2), 3)\n",
      "((0, 1, 0), 4)\n",
      "((0, 1, 1), 5)\n",
      "((0, 1, 2), 6)\n"
     ]
    }
   ],
   "source": [
    "arr_3d = np.array([[[1,2,3],[4,5,6]]])\n",
    "for i in np.ndenumerate(arr_3d): # to print the index value and elements in array\n",
    "    print(i)"
   ]
  },
  {
   "cell_type": "markdown",
   "id": "17d2bc5a-62bf-48e1-b98a-8cf857a7bf35",
   "metadata": {},
   "source": [
    "# copy vs view"
   ]
  },
  {
   "cell_type": "code",
   "execution_count": 126,
   "id": "14f0f5cd-96e2-4fba-a887-6c842b8ff0e5",
   "metadata": {},
   "outputs": [
    {
     "name": "stdout",
     "output_type": "stream",
     "text": [
      "var :   [1 4 5 6 7 0]\n",
      "co :   [1 4 5 6 7 0]\n"
     ]
    }
   ],
   "source": [
    "var_1 = np.array([1,4,5,6,7,0])\n",
    "\n",
    "co = var_1.copy() # copy function\n",
    "print(\"var :  \", var_1)\n",
    "print(\"co :  \", co)"
   ]
  },
  {
   "cell_type": "code",
   "execution_count": 137,
   "id": "3d26e8e2-2c92-4bab-b6da-0e11a48ef563",
   "metadata": {},
   "outputs": [
    {
     "name": "stdout",
     "output_type": "stream",
     "text": [
      "var :   [1 4 5 6 7 0]\n",
      "co :   [1 4 5 6 7 0]\n"
     ]
    }
   ],
   "source": [
    "var_1 = np.array([1,4,5,6,7,0])\n",
    "\n",
    "vw = var_1.view() # view function\n",
    "print(\"var :  \", var_1)\n",
    "print(\"co :  \", vw)"
   ]
  },
  {
   "cell_type": "markdown",
   "id": "2396b6d7-71e9-4531-8c2b-df6af8aea89c",
   "metadata": {},
   "source": [
    "The difference between copy works in own data and view works in original data.\n",
    "The copy of an array is a new array. The view is the original array.\n",
    "The changes made in the copy do not reflect in the original data. But in view, it will affect."
   ]
  },
  {
   "cell_type": "code",
   "execution_count": 133,
   "id": "107fa1c5-1060-4a8e-b07a-1e4360deab5d",
   "metadata": {},
   "outputs": [
    {
     "name": "stdout",
     "output_type": "stream",
     "text": [
      "var :   [ 1 30  5  6  7  0]\n",
      "co :   [1 4 5 6 7 0]\n"
     ]
    }
   ],
   "source": [
    "var_1 = np.array([1,4,5,6,7,0])\n",
    "\n",
    "co = var_1.copy() # copy function\n",
    "var_1[1] = 30\n",
    "print(\"var :  \", var_1) # only original data changes not copy \n",
    "print(\"co :  \", co)"
   ]
  },
  {
   "cell_type": "code",
   "execution_count": 139,
   "id": "1f8a5240-57e9-4e06-89e7-cc4782a9f6e6",
   "metadata": {},
   "outputs": [
    {
     "name": "stdout",
     "output_type": "stream",
     "text": [
      "var :   [ 1  4  5 99  7  0]\n",
      "co :   [ 1  4  5 99  7  0]\n"
     ]
    }
   ],
   "source": [
    "var_1 = np.array([1,4,5,6,7,0])\n",
    "\n",
    "vw = var_1.view() # view function\n",
    "var_1[3]= 99\n",
    "print(\"var :  \", var_1)\n",
    "print(\"co :  \", vw)"
   ]
  },
  {
   "cell_type": "markdown",
   "id": "614bc700-6dcc-43c4-b65d-a6d9c2b159c2",
   "metadata": {},
   "source": [
    "# Join & Split function \n",
    "Joining means putting the contents of two or more arrays in a single array. No of elements should be same."
   ]
  },
  {
   "cell_type": "code",
   "execution_count": 8,
   "id": "26cc8d4d-37ee-4943-8553-842dc379a0b8",
   "metadata": {},
   "outputs": [
    {
     "name": "stdout",
     "output_type": "stream",
     "text": [
      "[ 1  2  3  4  5  6  7  8  9 10]\n"
     ]
    }
   ],
   "source": [
    "var1 = np.array([1,2,3,4,5])\n",
    "var2 = np.array([6,7,8,9,10])\n",
    "\n",
    "arr_new = np.concatenate((var1,var2)) # 1d array\n",
    "print(arr_new)"
   ]
  },
  {
   "cell_type": "code",
   "execution_count": 22,
   "id": "86e5071c-8e5b-431c-89a4-1324a4be3a0e",
   "metadata": {},
   "outputs": [
    {
     "name": "stdout",
     "output_type": "stream",
     "text": [
      "[[ 1  2  6  7]\n",
      " [ 4  5  9 10]]\n",
      "2\n",
      "\n",
      "[[ 1  2]\n",
      " [ 4  5]\n",
      " [ 6  7]\n",
      " [ 9 10]]\n",
      "2\n"
     ]
    }
   ],
   "source": [
    "# 2d array using concatenate function\n",
    "ar1 = np.array([[1,2,],[4,5]])\n",
    "ar2 = np.array([[6,7],[9,10]])\n",
    "\n",
    "arr_new2d = np.concatenate((ar1,ar2),axis = 1) # concate with row\n",
    "print(arr_new2d)\n",
    "print(arr_new2d.ndim)\n",
    "print()\n",
    "arr_new3d = np.concatenate((ar1,ar2),axis = 0) # concate with column\n",
    "print(arr_new3d)\n",
    "print(arr_new3d.ndim)"
   ]
  },
  {
   "cell_type": "code",
   "execution_count": 30,
   "id": "1ae19db0-522c-42ac-a25c-3ca64ad5e1a2",
   "metadata": {},
   "outputs": [
    {
     "name": "stdout",
     "output_type": "stream",
     "text": [
      "[[ 1  6]\n",
      " [ 2  7]\n",
      " [ 3  8]\n",
      " [ 4  9]\n",
      " [ 5 10]]\n",
      "2\n",
      "\n",
      "[[ 1  2  3  4  5]\n",
      " [ 6  7  8  9 10]]\n",
      "2\n"
     ]
    }
   ],
   "source": [
    "# using stack function\n",
    "arr1 = np.array([1,2,3,4,5])\n",
    "arr2 = np.array([6,7,8,9,10])\n",
    "\n",
    "ar_new = np.stack((arr1,arr2),axis =1) # column\n",
    "print(ar_new)\n",
    "print(ar_new.ndim)\n",
    "print()\n",
    "ar1_new = np.stack((arr1,arr2),axis =0) #row\n",
    "print(ar1_new)\n",
    "print(ar1_new.ndim)"
   ]
  },
  {
   "cell_type": "code",
   "execution_count": 34,
   "id": "c79a08b2-c766-4490-993f-a6e5c987135c",
   "metadata": {},
   "outputs": [
    {
     "name": "stdout",
     "output_type": "stream",
     "text": [
      "[[ 1  2  3  4  5]\n",
      " [ 6  7  8  9 10]]\n",
      "2\n",
      "\n",
      "[ 1  2  3  4  5  6  7  8  9 10]\n",
      "1\n",
      "\n",
      "[[[ 1  6]\n",
      "  [ 2  7]\n",
      "  [ 3  8]\n",
      "  [ 4  9]\n",
      "  [ 5 10]]]\n",
      "3\n"
     ]
    }
   ],
   "source": [
    "# using stack function wihtout defining axis in array \n",
    "x = np.array([1,2,3,4,5])\n",
    "y = np.array([6,7,8,9,10])\n",
    "\n",
    "column_arr = np.vstack((arr1,arr2)) # column\n",
    "print(column_arr)\n",
    "print(column_arr.ndim)\n",
    "print()\n",
    "row_arr = np.hstack((arr1,arr2)) #row\n",
    "print(row_arr)\n",
    "print(row_arr.ndim)\n",
    "print()\n",
    "height_arr = np.dstack((arr1,arr2)) #height\n",
    "print(height_arr)\n",
    "print(height_arr.ndim)"
   ]
  },
  {
   "cell_type": "markdown",
   "id": "d0f90007-8395-4867-aeb4-92e5399ca2ad",
   "metadata": {},
   "source": [
    "# Splitting the array in different dimension "
   ]
  },
  {
   "cell_type": "code",
   "execution_count": 43,
   "id": "a9dbf035-72f4-41ee-9b5d-abf3c605963d",
   "metadata": {},
   "outputs": [
    {
     "name": "stdout",
     "output_type": "stream",
     "text": [
      "[1 2 3 4 5 6]\n",
      "\n",
      "[array([1, 2]), array([3, 4]), array([5, 6])]\n",
      "<class 'list'>\n",
      "[3 4]\n"
     ]
    }
   ],
   "source": [
    "arr = np.array([1,2,3,4,5,6])\n",
    "\n",
    "print(arr)\n",
    "print()\n",
    "sp_srr = np.array_split(arr,3)\n",
    "print(sp_srr)\n",
    "\n",
    "print(type(sp_srr))\n",
    "print(sp_srr[1]) # printing with index value"
   ]
  },
  {
   "cell_type": "code",
   "execution_count": 53,
   "id": "40272e9e-ac24-4129-bedb-95c6ff96578e",
   "metadata": {},
   "outputs": [
    {
     "name": "stdout",
     "output_type": "stream",
     "text": [
      "[[1 2]\n",
      " [3 4]\n",
      " [5 6]]\n",
      "\n",
      "[array([[1, 2]]), array([[3, 4]]), array([[5, 6]])]\n",
      "\n",
      "[array([[1],\n",
      "       [3],\n",
      "       [5]]), array([[2],\n",
      "       [4],\n",
      "       [6]]), array([], shape=(3, 0), dtype=int64)]\n"
     ]
    }
   ],
   "source": [
    "arr2d = np.array([[1,2],[3,4],[5,6]])\n",
    "\n",
    "print(arr2d)\n",
    "print()\n",
    "sp_srr = np.array_split(arr2d,3)\n",
    "print(sp_srr)\n",
    "print()\n",
    "sp_srr_ax = np.array_split(arr2d,3,axis = 1)\n",
    "print(sp_srr_ax)"
   ]
  },
  {
   "cell_type": "code",
   "execution_count": null,
   "id": "88cc64db-e282-4bb1-bd8b-6e22d730cee2",
   "metadata": {},
   "outputs": [],
   "source": []
  }
 ],
 "metadata": {
  "kernelspec": {
   "display_name": "Python 3 (ipykernel)",
   "language": "python",
   "name": "python3"
  },
  "language_info": {
   "codemirror_mode": {
    "name": "ipython",
    "version": 3
   },
   "file_extension": ".py",
   "mimetype": "text/x-python",
   "name": "python",
   "nbconvert_exporter": "python",
   "pygments_lexer": "ipython3",
   "version": "3.12.4"
  }
 },
 "nbformat": 4,
 "nbformat_minor": 5
}
