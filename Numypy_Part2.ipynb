{
 "cells": [
  {
   "cell_type": "markdown",
   "metadata": {
    "id": "V6TKax99g7bT"
   },
   "source": [
    "**Data types in Numpy arrays**\n",
    "1. int\n",
    "2. bool\n",
    "3. float\n",
    "4. complex\n",
    "\n",
    "To find the type of data use dtype keyword."
   ]
  },
  {
   "cell_type": "code",
   "execution_count": 4,
   "metadata": {
    "colab": {
     "base_uri": "https://localhost:8080/"
    },
    "id": "829nzoYggvAQ",
    "outputId": "e8e2a860-9130-4aa2-c952-010c875d9371"
   },
   "outputs": [
    {
     "name": "stdout",
     "output_type": "stream",
     "text": [
      "[1 2 4 3]\n",
      "Data type : int64\n"
     ]
    }
   ],
   "source": [
    "import numpy as np\n",
    "\n",
    "var = np.array([1,2,4,3])\n",
    "\n",
    "print(var)\n",
    "print(\"Data type :\",var.dtype) #int type data"
   ]
  },
  {
   "cell_type": "code",
   "execution_count": 2,
   "metadata": {
    "colab": {
     "base_uri": "https://localhost:8080/"
    },
    "id": "S--NgIYwiicT",
    "outputId": "86a8da8c-f292-44c9-eb98-459448ad141c"
   },
   "outputs": [
    {
     "name": "stdout",
     "output_type": "stream",
     "text": [
      "[1. 2. 4. 3.]\n",
      "Data type : float64\n"
     ]
    }
   ],
   "source": [
    "var1 = np.array([1.0,2.0,4.0,3.0])\n",
    "\n",
    "print(var1)\n",
    "print(\"Data type :\",var1.dtype)# float type data"
   ]
  },
  {
   "cell_type": "code",
   "execution_count": 4,
   "metadata": {
    "colab": {
     "base_uri": "https://localhost:8080/"
    },
    "id": "t2ZMTyoni8ai",
    "outputId": "a274c9c4-f2d3-4ddd-9cb8-cb3514ff8894"
   },
   "outputs": [
    {
     "name": "stdout",
     "output_type": "stream",
     "text": [
      "['A' 'B' 'C']\n",
      "Data type : <U1\n"
     ]
    }
   ],
   "source": [
    "varS = np.array([\"A\",\"B\",\"C\"])\n",
    "\n",
    "print(varS)\n",
    "print(\"Data type :\",varS.dtype)# String type data"
   ]
  },
  {
   "cell_type": "code",
   "execution_count": 5,
   "metadata": {
    "colab": {
     "base_uri": "https://localhost:8080/"
    },
    "id": "qvd5ZC_SjFNl",
    "outputId": "a1b99eb8-42eb-4e59-e497-5aa5d5ebc13d"
   },
   "outputs": [
    {
     "name": "stdout",
     "output_type": "stream",
     "text": [
      "['A' 'B' 'C' '1' '2' '3']\n",
      "Data type : <U21\n"
     ]
    }
   ],
   "source": [
    "var_mix = np.array([\"A\",\"B\",\"C\",1,2,3])\n",
    "\n",
    "print(var_mix)\n",
    "print(\"Data type :\",var_mix.dtype)# String and int type data"
   ]
  },
  {
   "cell_type": "code",
   "execution_count": null,
   "metadata": {
    "id": "CIwV2pz7ju8C"
   },
   "outputs": [],
   "source": []
  },
  {
   "cell_type": "markdown",
   "metadata": {
    "id": "ddTDiQP1na-3"
   },
   "source": [
    "To convert from one datatype to another"
   ]
  },
  {
   "cell_type": "code",
   "execution_count": 9,
   "metadata": {
    "colab": {
     "base_uri": "https://localhost:8080/"
    },
    "id": "j7Sk4dhbnevf",
    "outputId": "e999edd6-0571-43f9-b7c2-3bc59ed994a6"
   },
   "outputs": [
    {
     "name": "stdout",
     "output_type": "stream",
     "text": [
      "[1 2 4 3]\n",
      "Data type : int8\n"
     ]
    }
   ],
   "source": [
    "x = np.array([1,2,4,3], dtype = np.int8) #converting from int64 to int8\n",
    "print(x)\n",
    "print(\"Data type :\",x.dtype)"
   ]
  },
  {
   "cell_type": "code",
   "execution_count": 12,
   "metadata": {
    "colab": {
     "base_uri": "https://localhost:8080/"
    },
    "id": "gi6Zeub7nrxa",
    "outputId": "c50e9d19-d10a-47a7-e65d-f8b771c78241"
   },
   "outputs": [
    {
     "name": "stdout",
     "output_type": "stream",
     "text": [
      "Data type : float32\n",
      "[1. 2. 4. 3.]\n"
     ]
    }
   ],
   "source": [
    "x1 = np.array([1,2,4,3], dtype = \"f\") #converting from int64 to float using shortcut\n",
    "print(\"Data type :\",x1.dtype)\n",
    "print(x1)"
   ]
  },
  {
   "cell_type": "code",
   "execution_count": 13,
   "metadata": {
    "colab": {
     "base_uri": "https://localhost:8080/"
    },
    "id": "1gtA8psSoeXM",
    "outputId": "b221c359-d48e-4cae-f270-936fe6215a74"
   },
   "outputs": [
    {
     "name": "stdout",
     "output_type": "stream",
     "text": [
      "Data type : int64\n",
      "Data type : float32\n",
      "[1 2 4 3]\n",
      "[1. 2. 4. 3.]\n"
     ]
    }
   ],
   "source": [
    "x1 = np.array([1,2,4,3])\n",
    "new_arr = np.float32(x1) #converting from int64 to float using function\n",
    "print(\"Data type :\",x1.dtype)\n",
    "print(\"Data type :\",new_arr.dtype)\n",
    "print(x1)\n",
    "print(new_arr)"
   ]
  },
  {
   "cell_type": "code",
   "execution_count": 14,
   "metadata": {
    "colab": {
     "base_uri": "https://localhost:8080/"
    },
    "id": "qLRnPgK3pgdJ",
    "outputId": "fef9b439-51be-42b6-a197-f9a73bbb0115"
   },
   "outputs": [
    {
     "name": "stdout",
     "output_type": "stream",
     "text": [
      "Data type : int64\n",
      "[1 2 4 3]\n"
     ]
    }
   ],
   "source": [
    "new_arrint = np.int_(x1) # Again we can convert back into int using funtion\n",
    "print(\"Data type :\",new_arrint.dtype)\n",
    "print(new_arrint)"
   ]
  },
  {
   "cell_type": "code",
   "execution_count": 16,
   "metadata": {
    "colab": {
     "base_uri": "https://localhost:8080/"
    },
    "id": "Nl9wewbmp30t",
    "outputId": "3ee6d30e-4a96-44e8-99cb-5b0faa9131a9"
   },
   "outputs": [
    {
     "name": "stdout",
     "output_type": "stream",
     "text": [
      "Data type : int64\n",
      "Data type : float64\n",
      "[1 2 4 3]\n",
      "[1. 2. 4. 3.]\n"
     ]
    }
   ],
   "source": [
    "x3 = np.array([1,2,4,3]) #Dirclty changing the data type by using astype\n",
    "\n",
    "new_x3 = x3.astype(float)\n",
    "print(\"Data type :\",x3.dtype)\n",
    "print(\"Data type :\",new_x3.dtype)\n",
    "print(x3)\n",
    "print(new_x3)"
   ]
  },
  {
   "cell_type": "markdown",
   "metadata": {
    "id": "bpXSesd1rUSh"
   },
   "source": [
    " **Arithmetic operations in array**\n",
    " 1. Add operation (a+b) -> np.add(a,b)\n",
    " 2. Subtract operation (a-b) -> np.subtract(a,b)\n",
    " 3. Mutliplication operation (a*b) -> np.multiply(a,b)\n",
    " 4. Divide operation (a*b) -> np.divide(a,b)\n",
    " 5. Mod operation (a*b) -> np.mod(a,b)\n",
    " 6. Power operation (a**b) -> np.power(a,b)\n",
    " 7. Reciprocal operation (a*b) -> np.reciprocal(a,b)\n",
    "\n"
   ]
  },
  {
   "cell_type": "code",
   "execution_count": 33,
   "metadata": {
    "colab": {
     "base_uri": "https://localhost:8080/"
    },
    "id": "WEQZlzTQsm8Z",
    "outputId": "63544a99-d4bd-468c-a0b4-c316931f1e58"
   },
   "outputs": [
    {
     "name": "stdout",
     "output_type": "stream",
     "text": [
      "[4 5 7 6]\n",
      "[1 2 4 3]\n"
     ]
    }
   ],
   "source": [
    "a = np.array([1,2,4,3])\n",
    "a_add = a + 3 #Adding value to each element present in array\n",
    "print(a_add)\n",
    "print(a)"
   ]
  },
  {
   "cell_type": "code",
   "execution_count": 34,
   "metadata": {
    "colab": {
     "base_uri": "https://localhost:8080/"
    },
    "id": "x7xiyyJBumyh",
    "outputId": "a29acb39-97ed-4c09-fc09-dff466df5124"
   },
   "outputs": [
    {
     "name": "stdout",
     "output_type": "stream",
     "text": [
      "[ 9 11  6  9]\n",
      "[1 2 4 3]\n",
      "[8 9 2 6]\n"
     ]
    }
   ],
   "source": [
    "a1 = np.array([1,2,4,3])\n",
    "a2 = np.array([8,9,2,6])\n",
    "a_add = a1 + a2 #Adding two array of each element with the same index value.\n",
    "print(a_add)\n",
    "print(a1)\n",
    "print(a2)"
   ]
  },
  {
   "cell_type": "code",
   "execution_count": 35,
   "metadata": {
    "colab": {
     "base_uri": "https://localhost:8080/"
    },
    "id": "zDPuh83AvJ1Y",
    "outputId": "ffd1f608-93b4-47f8-a2ce-8645396f3a1f"
   },
   "outputs": [
    {
     "name": "stdout",
     "output_type": "stream",
     "text": [
      "[-2 -1  1  0]\n",
      "[1 2 4 3]\n"
     ]
    }
   ],
   "source": [
    "a = np.array([1,2,4,3])\n",
    "a_sub = a - 3 #Subtract value to each element present in array\n",
    "print(a_sub)\n",
    "print(a)"
   ]
  },
  {
   "cell_type": "code",
   "execution_count": 36,
   "metadata": {
    "colab": {
     "base_uri": "https://localhost:8080/"
    },
    "id": "rdykrKU3vYfM",
    "outputId": "ec4b818f-0fd4-4f4e-b054-efe7655b18d6"
   },
   "outputs": [
    {
     "name": "stdout",
     "output_type": "stream",
     "text": [
      "[ 3  6 12  9]\n",
      "[1 2 4 3]\n"
     ]
    }
   ],
   "source": [
    "a = np.array([1,2,4,3])\n",
    "a_mul = a * 3 #Multiply value to each element present in array\n",
    "print(a_mul)\n",
    "print(a)"
   ]
  },
  {
   "cell_type": "code",
   "execution_count": 43,
   "metadata": {
    "colab": {
     "base_uri": "https://localhost:8080/"
    },
    "id": "IBOe8XXfvgXC",
    "outputId": "9ccc8934-c4c1-43cd-b40c-7acb5d0115fc"
   },
   "outputs": [
    {
     "name": "stdout",
     "output_type": "stream",
     "text": [
      "[0.33333333 0.66666667 1.33333333 1.        ]\n",
      "[1 2 4 3]\n"
     ]
    }
   ],
   "source": [
    "a = np.array([1,2,4,3])\n",
    "a_dvd = a / 3 # Divide the value of each element present in array\n",
    "print(a_dvd)\n",
    "print(a)"
   ]
  },
  {
   "cell_type": "code",
   "execution_count": 44,
   "metadata": {
    "colab": {
     "base_uri": "https://localhost:8080/"
    },
    "id": "GcEa7QQsvqsm",
    "outputId": "7f36cd10-76f0-4ffd-bf67-37bd6ab17eae"
   },
   "outputs": [
    {
     "name": "stdout",
     "output_type": "stream",
     "text": [
      "[1 2 2 0]\n",
      "[  4   5 101 135]\n"
     ]
    }
   ],
   "source": [
    "a = np.array([4,5,101,135])\n",
    "a_rem = a % 3 # Getting remainder from mod operator\n",
    "print(a_rem)\n",
    "print(a)"
   ]
  },
  {
   "cell_type": "markdown",
   "metadata": {
    "id": "kuI5o99UxNfT"
   },
   "source": [
    "**Use function for mathematical operations**:\n",
    "Which is defined above.\n"
   ]
  },
  {
   "cell_type": "code",
   "execution_count": 30,
   "metadata": {
    "colab": {
     "base_uri": "https://localhost:8080/"
    },
    "id": "_0rlwz8kxWJk",
    "outputId": "03e30434-7e36-4779-e1ac-4d165a92c5fb"
   },
   "outputs": [
    {
     "name": "stdout",
     "output_type": "stream",
     "text": [
      "[4 5 7 6]\n",
      "[1 2 4 3]\n"
     ]
    }
   ],
   "source": [
    "a = np.array([1,2,4,3])\n",
    "a_add = np.add(a,3) #Adding value to each element present in array using add fun\n",
    "print(a_add)\n",
    "print(a)"
   ]
  },
  {
   "cell_type": "code",
   "execution_count": 32,
   "metadata": {
    "colab": {
     "base_uri": "https://localhost:8080/"
    },
    "id": "cudDoc0yxuoW",
    "outputId": "4dbe0719-c95a-4ac3-9a12-092e88c7ca03"
   },
   "outputs": [
    {
     "name": "stdout",
     "output_type": "stream",
     "text": [
      "[ 9 11  6  9]\n",
      "[1 2 4 3]\n",
      "[8 9 2 6]\n"
     ]
    }
   ],
   "source": [
    "a1 = np.array([1,2,4,3])\n",
    "a2 = np.array([8,9,2,6])\n",
    "a_add = np.add(a1,a2) #Adding two array of each element with the same index value using add fun\n",
    "print(a_add)\n",
    "print(a1)\n",
    "print(a2)"
   ]
  },
  {
   "cell_type": "code",
   "execution_count": 40,
   "metadata": {
    "colab": {
     "base_uri": "https://localhost:8080/"
    },
    "id": "zgF2BU5AyDSt",
    "outputId": "5b607c31-df50-4bdb-ea35-028003ce1ad2"
   },
   "outputs": [
    {
     "name": "stdout",
     "output_type": "stream",
     "text": [
      "[1 5 1 0]\n",
      "[4 8 4 3]\n"
     ]
    }
   ],
   "source": [
    "a = np.array([4,8,4,3])\n",
    "a_sub = np.subtract(a,3) #Subtract the value to each element present in array using add fun\n",
    "print(a_sub)\n",
    "print(a)"
   ]
  },
  {
   "cell_type": "code",
   "execution_count": 41,
   "metadata": {
    "colab": {
     "base_uri": "https://localhost:8080/"
    },
    "id": "-XlGoUkeyiEV",
    "outputId": "845ec23c-f8a2-49f8-ed54-99735cde1282"
   },
   "outputs": [
    {
     "name": "stdout",
     "output_type": "stream",
     "text": [
      "[10 20 40 30]\n",
      "[1 2 4 3]\n"
     ]
    }
   ],
   "source": [
    "a = np.array([1,2,4,3])\n",
    "a_mul =np.multiply(a,10) #Multiply the value to each element present in array using add fun\n",
    "print(a_mul)\n",
    "print(a)"
   ]
  },
  {
   "cell_type": "code",
   "execution_count": 42,
   "metadata": {
    "colab": {
     "base_uri": "https://localhost:8080/"
    },
    "id": "VjANQNxyytdB",
    "outputId": "dcc23f91-ee76-4eb5-df87-2c110a1dbf53"
   },
   "outputs": [
    {
     "name": "stdout",
     "output_type": "stream",
     "text": [
      "[0.1 0.2 0.4 0.3]\n",
      "[1 2 4 3]\n"
     ]
    }
   ],
   "source": [
    "a = np.array([1,2,4,3])\n",
    "a_dvd =np.divide(a,10) #Divide the value to each element present in array using add fun\n",
    "print(a_dvd)\n",
    "print(a)"
   ]
  },
  {
   "cell_type": "code",
   "execution_count": 47,
   "metadata": {
    "colab": {
     "base_uri": "https://localhost:8080/"
    },
    "id": "M5Vj8kgR1QHi",
    "outputId": "5c2da0f4-a41f-4c27-8141-23113bcf8118"
   },
   "outputs": [
    {
     "name": "stdout",
     "output_type": "stream",
     "text": [
      "[1 0 0 0]\n",
      "[1 2 4 3]\n"
     ]
    }
   ],
   "source": [
    "a = np.array([1,2,4,3])\n",
    "a_res =np.reciprocal(a) #Reciporcal the value to each element present in array using add fun\n",
    "print(a_res)\n",
    "print(a)"
   ]
  },
  {
   "cell_type": "markdown",
   "metadata": {
    "id": "T3yZC6sz2J58"
   },
   "source": [
    "Operations in 2D Array"
   ]
  },
  {
   "cell_type": "code",
   "execution_count": 50,
   "metadata": {
    "colab": {
     "base_uri": "https://localhost:8080/"
    },
    "id": "9uUc2pau2Nlm",
    "outputId": "b55f222c-0226-42e1-90be-8a342f897ba1"
   },
   "outputs": [
    {
     "name": "stdout",
     "output_type": "stream",
     "text": [
      "[[ 6  4 12  6]\n",
      " [10 15  4 15]]\n",
      "\n",
      "[[1 2 4 3]\n",
      " [5 6 2 7]]\n",
      "\n",
      "[[5 2 8 3]\n",
      " [5 9 2 8]]\n"
     ]
    }
   ],
   "source": [
    "var2d = np.array([[1,2,4,3],[5,6,2,7]])\n",
    "var2d2 = np.array([[5,2,8,3],[5,9,2,8]])\n",
    "\n",
    "add2D = var2d + var2d2; # adding in 2d array\n",
    "print(add2D)\n",
    "print()\n",
    "print(var2d)\n",
    "print()\n",
    "print(var2d2)\n"
   ]
  },
  {
   "cell_type": "code",
   "execution_count": 55,
   "metadata": {
    "colab": {
     "base_uri": "https://localhost:8080/"
    },
    "id": "Tq4OlAFl3mrz",
    "outputId": "dc42a656-bde1-4d6a-b825-fbd78dbcfda1"
   },
   "outputs": [
    {
     "name": "stdout",
     "output_type": "stream",
     "text": [
      "[[-4  0 -4  0]\n",
      " [ 0 -3  0 -1]]\n"
     ]
    }
   ],
   "source": [
    "var2d = np.array([[1,2,4,3],[5,6,2,7]])\n",
    "var2d2 = np.array([[5,2,8,3],[5,9,2,8]])\n",
    "\n",
    "sub2D = var2d - var2d2; # Sub in 2d array\n",
    "print(sub2D)"
   ]
  },
  {
   "cell_type": "code",
   "execution_count": 54,
   "metadata": {
    "colab": {
     "base_uri": "https://localhost:8080/"
    },
    "id": "u5zUNHb134PH",
    "outputId": "1c2be326-200a-4220-d3b0-42975edaa06c"
   },
   "outputs": [
    {
     "name": "stdout",
     "output_type": "stream",
     "text": [
      "[[ 5  4 32  9]\n",
      " [25 54  4 56]]\n"
     ]
    }
   ],
   "source": [
    "var2d = np.array([[1,2,4,3],[5,6,2,7]])\n",
    "var2d2 = np.array([[5,2,8,3],[5,9,2,8]])\n",
    "\n",
    "mul2D = var2d * var2d2; # Multiple in  2d array\n",
    "print(mul2D)"
   ]
  },
  {
   "cell_type": "code",
   "execution_count": null,
   "metadata": {
    "id": "Ol5mTFeX4DGb"
   },
   "outputs": [],
   "source": []
  },
  {
   "cell_type": "markdown",
   "metadata": {
    "id": "hb5zySkb5zuJ"
   },
   "source": [
    "Arithmetic function in Numpy Array"
   ]
  },
  {
   "cell_type": "code",
   "execution_count": 60,
   "metadata": {
    "colab": {
     "base_uri": "https://localhost:8080/"
    },
    "id": "z1pNcvmT6DDO",
    "outputId": "9eff780c-84dc-4c99-bc37-e807cfa8a5e4"
   },
   "outputs": [
    {
     "name": "stdout",
     "output_type": "stream",
     "text": [
      "min :  0 4\n",
      "min :  100 9\n"
     ]
    }
   ],
   "source": [
    "a_1d = np.array([4,5,2,9,0,1,33,45,88,100])\n",
    "min = np.min(a_1d)\n",
    "max = np.max(a_1d)\n",
    "print(\"min : \", min, np.argmin(a_1d)) # To find the Minimum value from the array\n",
    "print(\"min : \", max, np.argmax(a_1d)) # To find the Maximum value from the array"
   ]
  },
  {
   "cell_type": "code",
   "execution_count": 65,
   "metadata": {
    "colab": {
     "base_uri": "https://localhost:8080/"
    },
    "id": "2l8Fg10F6g5l",
    "outputId": "0b40ea0d-5a9c-4c86-c508-059ac1d71796"
   },
   "outputs": [
    {
     "name": "stdout",
     "output_type": "stream",
     "text": [
      "[4 2]\n",
      "[7 5 6 2 4]\n"
     ]
    }
   ],
   "source": [
    "arr_2D = np.array([[9,5,7,6,4],[7,5,6,2,33]])\n",
    "\n",
    "print(np.min(arr_2D,axis= 1)) # Find the min value in 2D Array within the axis 1 (means row wise)\n",
    "\n",
    "print(np.min(arr_2D,axis= 0)) # Find the min value in 2D Array within the axis 0 (means column wise)"
   ]
  },
  {
   "cell_type": "code",
   "execution_count": 69,
   "metadata": {
    "colab": {
     "base_uri": "https://localhost:8080/"
    },
    "id": "_sEU4NQQVz4M",
    "outputId": "feba3d37-30e7-4ab0-8237-2c6e2d7e35c0"
   },
   "outputs": [
    {
     "name": "stdout",
     "output_type": "stream",
     "text": [
      "[2.         2.23606798 1.41421356]\n"
     ]
    }
   ],
   "source": [
    "a_sqrt = np.array([4,5,2])\n",
    "print(np.sqrt(a_sqrt)) # To find the sqrt value from the array"
   ]
  },
  {
   "cell_type": "code",
   "execution_count": 70,
   "metadata": {
    "colab": {
     "base_uri": "https://localhost:8080/"
    },
    "id": "Al2B_TsXWwHE",
    "outputId": "19753f3b-555e-4521-e65b-999f41c9fbf5"
   },
   "outputs": [
    {
     "name": "stdout",
     "output_type": "stream",
     "text": [
      "[-0.7568025  -0.95892427  0.90929743]\n",
      "[-0.65364362  0.28366219 -0.41614684]\n"
     ]
    }
   ],
   "source": [
    "arrM = np.array([4,5,2])\n",
    "print(np.sin(arrM)) # To find the sin value from the array\n",
    "print(np.cos(arrM)) # To find the cos value from the array"
   ]
  },
  {
   "cell_type": "code",
   "execution_count": 71,
   "metadata": {
    "colab": {
     "base_uri": "https://localhost:8080/"
    },
    "id": "6UddI9zHXd0q",
    "outputId": "733af3f0-5a25-4ed1-9388-f2f68ffb1053"
   },
   "outputs": [
    {
     "name": "stdout",
     "output_type": "stream",
     "text": [
      "[  4   9  11  20  20  21  54  99 187 287]\n"
     ]
    }
   ],
   "source": [
    "a_cumsum = np.array([4,5,2,9,0,1,33,45,88,100])\n",
    "print(np.cumsum(a_cumsum)) # Added in the previous value like 0+4 ,4+5= 9 ,9+2 =11,11+9 =20 , 20+0 =20 , 20+1 = 21 ..........."
   ]
  },
  {
   "cell_type": "code",
   "execution_count": 72,
   "metadata": {
    "colab": {
     "base_uri": "https://localhost:8080/"
    },
    "id": "p7eI2NbzX0SH",
    "outputId": "1419b8b0-07e5-45a8-99b6-0e6d3ac01494"
   },
   "outputs": [
    {
     "name": "stdout",
     "output_type": "stream",
     "text": [
      "[ 4  9 11]\n"
     ]
    }
   ],
   "source": [
    "arr_cumsum = np.array([4,5,2])\n",
    "print(np.cumsum(arr_cumsum)) # same as above"
   ]
  },
  {
   "cell_type": "markdown",
   "metadata": {
    "id": "etSyadbnYn5H"
   },
   "source": [
    "**Shape and Reshaping in Array**\n",
    "1. Shape : Helps to get to know about how many rows and colums are present in array.\n",
    "2. Reshape : Helps to reshape the array in any dimensions.\n"
   ]
  },
  {
   "cell_type": "code",
   "execution_count": 74,
   "metadata": {
    "colab": {
     "base_uri": "https://localhost:8080/"
    },
    "id": "6AyE1EqUYVJ1",
    "outputId": "e3cf887b-0201-448a-d378-7dbf5cd13afd"
   },
   "outputs": [
    {
     "name": "stdout",
     "output_type": "stream",
     "text": [
      "[[ 1  2  3  1]\n",
      " [41  4  5  6]]\n",
      "\n",
      "(2, 4)\n"
     ]
    }
   ],
   "source": [
    "varShape = np.array([[1,2,3,1],[41,4,5,6]])\n",
    "print(varShape)\n",
    "print()\n",
    "print(varShape.shape)"
   ]
  },
  {
   "cell_type": "code",
   "execution_count": 78,
   "metadata": {
    "colab": {
     "base_uri": "https://localhost:8080/"
    },
    "id": "kZPR__RsuVIr",
    "outputId": "94782b32-c688-4ee4-b692-e23f18debe8f"
   },
   "outputs": [
    {
     "name": "stdout",
     "output_type": "stream",
     "text": [
      "[[[[[1 2 6 7]]]]]\n",
      "\n",
      "5\n",
      "(1, 1, 1, 1, 4)\n"
     ]
    }
   ],
   "source": [
    "varMulti = np.array([1,2,6,7],ndmin= 5)\n",
    "print(varMulti)\n",
    "print()\n",
    "print(varMulti.ndim)\n",
    "print(varMulti.shape)"
   ]
  },
  {
   "cell_type": "code",
   "execution_count": 89,
   "metadata": {
    "colab": {
     "base_uri": "https://localhost:8080/"
    },
    "id": "H9-IXm4IuoRt",
    "outputId": "69b2b1c4-df62-411a-f809-47bb411d8e31"
   },
   "outputs": [
    {
     "name": "stdout",
     "output_type": "stream",
     "text": [
      "[ 1  2  3  1 41  4  6  7]\n",
      "\n",
      "[[ 1  2]\n",
      " [ 3  1]\n",
      " [41  4]\n",
      " [ 6  7]]\n",
      "2\n"
     ]
    }
   ],
   "source": [
    "varShape = np.array([1,2,3,1,41,4,6,7])\n",
    "print(varShape)\n",
    "reshape_arr = varShape.reshape(4,2,) #always see the no of elements while reshaping it should be equal while apply shape else it will through error.\n",
    "print()\n",
    "print(reshape_arr)\n",
    "print(reshape_arr.ndim)"
   ]
  },
  {
   "cell_type": "code",
   "execution_count": null,
   "metadata": {
    "colab": {
     "base_uri": "https://localhost:8080/",
     "height": 228
    },
    "id": "kzjkSdi-xlrF",
    "outputId": "20d0d62b-7d4a-4a1e-ebf6-dd72a0815c6d"
   },
   "outputs": [],
   "source": []
  },
  {
   "cell_type": "code",
   "execution_count": null,
   "metadata": {
    "id": "72h0DE-t0BYa"
   },
   "outputs": [],
   "source": []
  }
 ],
 "metadata": {
  "colab": {
   "provenance": []
  },
  "kernelspec": {
   "display_name": "Python 3 (ipykernel)",
   "language": "python",
   "name": "python3"
  },
  "language_info": {
   "codemirror_mode": {
    "name": "ipython",
    "version": 3
   },
   "file_extension": ".py",
   "mimetype": "text/x-python",
   "name": "python",
   "nbconvert_exporter": "python",
   "pygments_lexer": "ipython3",
   "version": "3.12.4"
  }
 },
 "nbformat": 4,
 "nbformat_minor": 4
}
