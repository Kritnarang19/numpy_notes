{
 "cells": [
  {
   "cell_type": "markdown",
   "id": "68761193-2d1b-4733-8993-0211f1683434",
   "metadata": {},
   "source": [
    "# Numpy Array"
   ]
  },
  {
   "cell_type": "code",
   "execution_count": null,
   "id": "f026b5c3-60ec-44c1-923a-0644966d7aa0",
   "metadata": {},
   "outputs": [],
   "source": []
  },
  {
   "cell_type": "code",
   "execution_count": null,
   "id": "2326d3fb-bb5d-478c-9581-097a299bc560",
   "metadata": {},
   "outputs": [],
   "source": []
  },
  {
   "cell_type": "code",
   "execution_count": 16,
   "id": "7f1d6a4e-c150-4423-ab3e-87495a18b070",
   "metadata": {},
   "outputs": [],
   "source": [
    "import numpy as np"
   ]
  },
  {
   "cell_type": "code",
   "execution_count": 18,
   "id": "f4e8059f-ca9f-43c5-b350-d3d82e8305ca",
   "metadata": {},
   "outputs": [
    {
     "name": "stdout",
     "output_type": "stream",
     "text": [
      "[1 2 3 4]\n",
      "<class 'numpy.ndarray'>\n"
     ]
    }
   ],
   "source": [
    "x=np.array([1,2,3,4])\n",
    "print(x)\n",
    "print(type(x))"
   ]
  },
  {
   "cell_type": "code",
   "execution_count": 20,
   "id": "4bb38e8f-3c5b-4317-9375-bf4ca4b94228",
   "metadata": {},
   "outputs": [
    {
     "name": "stdout",
     "output_type": "stream",
     "text": [
      "[1, 2, 3, 4]\n",
      "<class 'list'>\n"
     ]
    }
   ],
   "source": [
    "y=[1,2,3,4]\n",
    "print(y)\n",
    "print(type(y))"
   ]
  },
  {
   "cell_type": "code",
   "execution_count": 22,
   "id": "5c461a88-0c1e-4c02-8e4e-bc828b4d8c66",
   "metadata": {},
   "outputs": [
    {
     "name": "stdout",
     "output_type": "stream",
     "text": [
      "287 ns ± 7.58 ns per loop (mean ± std. dev. of 7 runs, 1,000,000 loops each)\n"
     ]
    }
   ],
   "source": [
    "%timeit [j**4 for j in range(1,9)]"
   ]
  },
  {
   "cell_type": "code",
   "execution_count": 23,
   "id": "fba4f74f-ae33-49a8-b4c2-ee4f81fc2827",
   "metadata": {},
   "outputs": [
    {
     "name": "stdout",
     "output_type": "stream",
     "text": [
      "915 ns ± 8.17 ns per loop (mean ± std. dev. of 7 runs, 1,000,000 loops each)\n"
     ]
    }
   ],
   "source": [
    "%timeit np.arange(1,9)**4"
   ]
  },
  {
   "cell_type": "markdown",
   "id": "9d3da2ce-6f9a-4865-8b27-bb47ef9242a9",
   "metadata": {},
   "source": [
    "# Creating an array in empty list"
   ]
  },
  {
   "cell_type": "code",
   "execution_count": 25,
   "id": "b456aa21-d9c1-4f8c-930c-e4f4e5cf1fb5",
   "metadata": {},
   "outputs": [
    {
     "name": "stdin",
     "output_type": "stream",
     "text": [
      "enter :  2\n",
      "enter :  2\n",
      "enter :  2\n",
      "enter :  2\n"
     ]
    },
    {
     "name": "stdout",
     "output_type": "stream",
     "text": [
      "[2 2 2 2]\n"
     ]
    }
   ],
   "source": [
    "L = []\n",
    "for i in range(1,5):\n",
    "    values = int(input(\"enter : \")) #added an int type data to our input else it will be string type\n",
    "    L.append(values)\n",
    "\n",
    "print(np.array(L))"
   ]
  },
  {
   "cell_type": "markdown",
   "id": "5638d389-113a-4ac2-8a05-70be5dc46abc",
   "metadata": {},
   "source": [
    "# Dimensions in array\n",
    " 1D Array -> [1 2 3 4]  ,\n",
    " 2D Array -> [[1 2 3 4 ]] ,\n",
    "  3D Array -> [[[1 2 3 4 ]]],\n",
    " Higher Dimension array\n",
    "\n",
    "To know the dimension of array use ndim \n",
    " "
   ]
  },
  {
   "cell_type": "raw",
   "id": "7b4d0ef5-3c97-4aa9-9a81-d1d033ecfadc",
   "metadata": {},
   "source": []
  },
  {
   "cell_type": "code",
   "execution_count": 34,
   "id": "3de2bfeb-fd3f-4b0b-93f5-144dff081bc8",
   "metadata": {},
   "outputs": [
    {
     "name": "stdout",
     "output_type": "stream",
     "text": [
      "[1 2 3 4]\n",
      "1\n"
     ]
    }
   ],
   "source": [
    "array_1D = np.array([1,2,3,4])\n",
    "print(array_1D)\n",
    "print(array_1D.ndim) # To find the Dimension of the array "
   ]
  },
  {
   "cell_type": "code",
   "execution_count": 36,
   "id": "8f710969-91e6-4911-a4cb-50e1eb96970b",
   "metadata": {},
   "outputs": [
    {
     "name": "stdout",
     "output_type": "stream",
     "text": [
      "[[1 2 3 4]\n",
      " [2 3 4 5]]\n",
      "2\n"
     ]
    }
   ],
   "source": [
    "array_2D = np.array([[1,2,3,4], [2,3,4,5]]) #To create 2d array no of elements in array should be same.\n",
    "print(array_2D)\n",
    "print(array_2D.ndim) # To find the Dimension of the array "
   ]
  },
  {
   "cell_type": "code",
   "execution_count": 38,
   "id": "5269ab91-56e1-489c-b79a-412fab6cf957",
   "metadata": {},
   "outputs": [
    {
     "name": "stdout",
     "output_type": "stream",
     "text": [
      "[[[1 2 3 4]\n",
      "  [2 3 4 5]\n",
      "  [3 4 5 6]]]\n",
      "3\n"
     ]
    }
   ],
   "source": [
    "array_3D = np.array([[[1,2,3,4], [2,3,4,5],[3,4,5,6]]]) #To create 3d array no of elements in the array should be the same.\n",
    "print(array_3D)\n",
    "print(array_3D.ndim) # To find the Dimension of the array "
   ]
  },
  {
   "cell_type": "code",
   "execution_count": 46,
   "id": "22613d73-cbe9-4688-9cbc-d447a90ef77e",
   "metadata": {},
   "outputs": [
    {
     "name": "stdout",
     "output_type": "stream",
     "text": [
      "[[[[[[[[[[[[1 2 3 4]]]]]]]]]]]]\n",
      "12\n"
     ]
    }
   ],
   "source": [
    "array_multi = np.array([1,2,3,4], ndmin = 12) # to create multi-dimension arr use ndimn and any value can be given\n",
    "print(array_multi)\n",
    "print(array_multi.ndim)"
   ]
  },
  {
   "cell_type": "markdown",
   "id": "59a5f19c-18d5-4e29-bb86-deb1499917fe",
   "metadata": {},
   "source": [
    "# Create a numpy array using numpy function"
   ]
  },
  {
   "cell_type": "markdown",
   "id": "0172c9e3-c8e1-4602-8801-42be0c1f6b4e",
   "metadata": {},
   "source": [
    "Create an array with all no zeros"
   ]
  },
  {
   "cell_type": "code",
   "execution_count": 50,
   "id": "0db9f3a9-b385-42cc-bb0e-64872c985eb1",
   "metadata": {},
   "outputs": [
    {
     "name": "stdout",
     "output_type": "stream",
     "text": [
      "[0. 0. 0. 0.]\n",
      "1\n"
     ]
    }
   ],
   "source": [
    "arr_zero = np.zeros(4) #Single dimension array with all value as 0\n",
    "print(arr_zero)\n",
    "print(arr_zero.ndim)"
   ]
  },
  {
   "cell_type": "code",
   "execution_count": 56,
   "id": "3e62bf0d-9d44-4303-8d46-4a66ad144c03",
   "metadata": {},
   "outputs": [
    {
     "name": "stdout",
     "output_type": "stream",
     "text": [
      "[[0. 0. 0. 0.]\n",
      " [0. 0. 0. 0.]\n",
      " [0. 0. 0. 0.]]\n",
      "2\n"
     ]
    }
   ],
   "source": [
    "arr_zero2 = np.zeros((3,4)) #2 dimension array with all value as 0\n",
    "print(arr_zero2)\n",
    "print(arr_zero2.ndim)"
   ]
  },
  {
   "cell_type": "markdown",
   "id": "54acac15-a907-4d3e-8b06-c649eb019a62",
   "metadata": {},
   "source": [
    "Create an array with all number as 1's"
   ]
  },
  {
   "cell_type": "code",
   "execution_count": 68,
   "id": "079e720d-2458-4f06-8cc0-86fc751e6c26",
   "metadata": {},
   "outputs": [
    {
     "name": "stdout",
     "output_type": "stream",
     "text": [
      "[1. 1. 1. 1.]\n",
      "1\n"
     ]
    }
   ],
   "source": [
    "arr_one = np.ones(4) #1 dimension array with all value as 0\n",
    "print(arr_one)\n",
    "print(arr_one.ndim)"
   ]
  },
  {
   "cell_type": "code",
   "execution_count": 70,
   "id": "825ea340-8870-4a38-97e3-e781eea16e11",
   "metadata": {},
   "outputs": [
    {
     "name": "stdout",
     "output_type": "stream",
     "text": [
      "[[1. 1. 1. 1.]\n",
      " [1. 1. 1. 1.]\n",
      " [1. 1. 1. 1.]\n",
      " [1. 1. 1. 1.]]\n",
      "2\n"
     ]
    }
   ],
   "source": [
    "arr_one = np.ones((4,4)) #2 dimension array with all value as 0\n",
    "print(arr_one)\n",
    "print(arr_one.ndim)"
   ]
  },
  {
   "cell_type": "markdown",
   "id": "9dd0d282-cea6-47f1-97a7-5c65857aaa8d",
   "metadata": {},
   "source": [
    "To create empty array"
   ]
  },
  {
   "cell_type": "code",
   "execution_count": 77,
   "id": "a583aacd-be19-4a1d-bd60-268aee060f45",
   "metadata": {},
   "outputs": [
    {
     "name": "stdout",
     "output_type": "stream",
     "text": [
      "[3. 2. 1.]\n"
     ]
    }
   ],
   "source": [
    "arr_em = np.empty(3) # use previous memory and print the data\n",
    "print(arr_em)"
   ]
  },
  {
   "cell_type": "markdown",
   "id": "4f275de4-5fa7-477b-8865-ab328581f60e",
   "metadata": {},
   "source": [
    "To create a range array.\n"
   ]
  },
  {
   "cell_type": "code",
   "execution_count": 82,
   "id": "d31c23c7-08f9-4bb7-95e6-11cc5dc0d147",
   "metadata": {},
   "outputs": [
    {
     "name": "stdout",
     "output_type": "stream",
     "text": [
      "[0 1 2 3 4 5 6]\n"
     ]
    }
   ],
   "source": [
    "arr_rn = np.arange(7) # print the data from a range , values starts from 0\n",
    "print(arr_rn)"
   ]
  },
  {
   "cell_type": "markdown",
   "id": "210ef018-e451-4176-86fb-6aa0eed7d2b0",
   "metadata": {},
   "source": [
    "To create a diagonal matrix of value 1\n"
   ]
  },
  {
   "cell_type": "code",
   "execution_count": 85,
   "id": "d84f3e30-3d5b-410e-af59-175cb73bbc48",
   "metadata": {},
   "outputs": [
    {
     "name": "stdout",
     "output_type": "stream",
     "text": [
      "[[1. 0. 0. 0. 0.]\n",
      " [0. 1. 0. 0. 0.]\n",
      " [0. 0. 1. 0. 0.]\n",
      " [0. 0. 0. 1. 0.]\n",
      " [0. 0. 0. 0. 1.]]\n"
     ]
    }
   ],
   "source": [
    "arr_dia = np.eye(5) # use eye method this create as 5*5 matrix\n",
    "print(arr_dia)"
   ]
  },
  {
   "cell_type": "code",
   "execution_count": 93,
   "id": "abcd1c7b-f43c-420f-a390-3ba9a082843d",
   "metadata": {},
   "outputs": [
    {
     "name": "stdout",
     "output_type": "stream",
     "text": [
      "[[1. 0. 0. 0.]\n",
      " [0. 1. 0. 0.]\n",
      " [0. 0. 1. 0.]]\n",
      "2\n"
     ]
    }
   ],
   "source": [
    "arr_dia = np.eye(3,4) # to create random matrix with 2d array\n",
    "print(arr_dia)\n",
    "print(arr_dia.ndim)"
   ]
  },
  {
   "cell_type": "markdown",
   "id": "f4bb561b-8695-4ba4-a084-0fa9d1623746",
   "metadata": {},
   "source": [
    "To create space in line with specific interval of matrix use linspace"
   ]
  },
  {
   "cell_type": "code",
   "execution_count": 96,
   "id": "0be9efd3-29ce-46df-bc32-60f189008420",
   "metadata": {},
   "outputs": [
    {
     "name": "stdout",
     "output_type": "stream",
     "text": [
      "[ 0.   2.5  5.   7.5 10. ]\n",
      "1\n"
     ]
    }
   ],
   "source": [
    "arr_ln = np.linspace(0,10, num = 5) # Give a range of value and then give num to add a space acc to need\n",
    "print(arr_ln)\n",
    "print(arr_ln.ndim)"
   ]
  },
  {
   "cell_type": "code",
   "execution_count": 98,
   "id": "3e93ea2c-b73a-403f-a74e-9d1993d4e988",
   "metadata": {},
   "outputs": [
    {
     "name": "stdout",
     "output_type": "stream",
     "text": [
      "[ 0.  5. 10. 15. 20.]\n",
      "1\n"
     ]
    }
   ],
   "source": [
    "arr_ln = np.linspace(0,20, num = 5) \n",
    "print(arr_ln)\n",
    "print(arr_ln.ndim)"
   ]
  },
  {
   "cell_type": "code",
   "execution_count": 102,
   "id": "1c61f994-0bad-4c14-9845-fb26105a78d5",
   "metadata": {},
   "outputs": [
    {
     "name": "stdout",
     "output_type": "stream",
     "text": [
      "[ 0.          6.66666667 13.33333333 20.        ]\n",
      "1\n"
     ]
    }
   ],
   "source": [
    "arr_ln = np.linspace(0,20, num = 4) # Give a range of value and then give num to add a space acc to need\n",
    "print(arr_ln)\n",
    "print(arr_ln.ndim)"
   ]
  },
  {
   "cell_type": "markdown",
   "id": "f9ec5e5c-cc84-4d65-a4c7-66bbdf0225e0",
   "metadata": {},
   "source": [
    "# To create numpy array with a Random Array \n",
    "\n",
    "1. rand() -> This function is used to generate a random value between 0 to 1.\n",
    "2. randn() -> This function is used to generate a random value close to 0. This may return -ve or +ve numbers as well.\n",
    "3. ranf()-> This function is used for sampling in numpy and returns an array of specific shapes which fills with random floats in the happen interval [0.0, 1.0). Means 0 in included but not 1.\n",
    "4. randint() -> This function is used to generate a random value between a given range."
   ]
  },
  {
   "cell_type": "code",
   "execution_count": 110,
   "id": "65afa802-1aeb-4688-86e6-f8f847249717",
   "metadata": {},
   "outputs": [
    {
     "name": "stdout",
     "output_type": "stream",
     "text": [
      "[0.11054616 0.52573119 0.82960356 0.24059092 0.16987783]\n",
      "1\n"
     ]
    }
   ],
   "source": [
    "arr_ran = np.random.rand(5) # example 1.  [0.81259334 0.39960226 0.88529534 0.30581452 0.34635141] this is 1-D array\n",
    "print(arr_ran)              # example 2.  [0.03881033 0.89007407 0.15592176 0.89567929 0.23890793]\n",
    "print(arr_ran.ndim)"
   ]
  },
  {
   "cell_type": "code",
   "execution_count": 112,
   "id": "11f10b50-8489-4dc2-ba27-3b3159e17cd9",
   "metadata": {},
   "outputs": [
    {
     "name": "stdout",
     "output_type": "stream",
     "text": [
      "[[0.468204   0.44202641 0.41413077 0.40946192]\n",
      " [0.62927911 0.76245324 0.21520182 0.93215378]\n",
      " [0.28323889 0.36657827 0.01140295 0.67548468]]\n",
      "2\n"
     ]
    }
   ],
   "source": [
    "arr_ran2 = np.random.rand(3,4) # this is 2D array for random array \n",
    "print(arr_ran2)              \n",
    "print(arr_ran2.ndim)"
   ]
  },
  {
   "cell_type": "code",
   "execution_count": 118,
   "id": "af839fc3-7d10-4fe1-b842-85ea088339de",
   "metadata": {},
   "outputs": [
    {
     "name": "stdout",
     "output_type": "stream",
     "text": [
      "[ 1.43634291e+00 -9.17936804e-01  1.58986065e-03  1.77699323e+00\n",
      "  8.55009459e-01]\n",
      "1\n"
     ]
    }
   ],
   "source": [
    "arr_rann = np.random.randn(5) # ex 1  [ 0.20945681 -0.37582136 -0.1433742   1.86285355  0.41120908] this is 1-D array and give -ve value\n",
    "print(arr_rann)              # example 2.  [ 0.22398761 -0.06286808 -0.5703738  -0.10537787 -0.20248997]\n",
    "print(arr_rann.ndim)"
   ]
  },
  {
   "cell_type": "code",
   "execution_count": 126,
   "id": "67a4adea-9926-4fbf-9645-c6d5f8c9dc01",
   "metadata": {},
   "outputs": [
    {
     "name": "stdout",
     "output_type": "stream",
     "text": [
      "[[-0.40276822  0.7089646  -0.71385413 -0.02920615  0.51043487]\n",
      " [ 0.73867265  0.72383149  0.65065626 -2.28199694  0.27977155]]\n",
      "2\n"
     ]
    }
   ],
   "source": [
    "arr_rann2 = np.random.randn(2,5) # 2-D array\n",
    "print(arr_rann2)              \n",
    "print(arr_rann2.ndim)"
   ]
  },
  {
   "cell_type": "code",
   "execution_count": 135,
   "id": "17c7ef30-a1b4-41bf-9fb1-93564f1d884f",
   "metadata": {},
   "outputs": [
    {
     "name": "stdout",
     "output_type": "stream",
     "text": [
      "[0.0464398  0.53949155 0.84210736 0.35491344 0.11971397]\n",
      "1\n"
     ]
    }
   ],
   "source": [
    "arr_ranf = np.random.ranf(5) # 1-D array using ranf\n",
    "print(arr_ranf)              \n",
    "print(arr_ranf.ndim)"
   ]
  },
  {
   "cell_type": "code",
   "execution_count": 151,
   "id": "423ac30b-523b-4980-a54e-eaae11dbf630",
   "metadata": {},
   "outputs": [
    {
     "name": "stdout",
     "output_type": "stream",
     "text": [
      "[9 8 2 7 3]\n"
     ]
    }
   ],
   "source": [
    "arr_ran2f = np.random.randint(0,10,5) ## values can be passed as (min,max,total value)\n",
    "print(arr_ran2f)  \n"
   ]
  },
  {
   "cell_type": "code",
   "execution_count": null,
   "id": "c0ad6ccf-595b-4838-8c83-75ebf5cfd812",
   "metadata": {},
   "outputs": [],
   "source": []
  }
 ],
 "metadata": {
  "kernelspec": {
   "display_name": "Python 3 (ipykernel)",
   "language": "python",
   "name": "python3"
  },
  "language_info": {
   "codemirror_mode": {
    "name": "ipython",
    "version": 3
   },
   "file_extension": ".py",
   "mimetype": "text/x-python",
   "name": "python",
   "nbconvert_exporter": "python",
   "pygments_lexer": "ipython3",
   "version": "3.12.4"
  }
 },
 "nbformat": 4,
 "nbformat_minor": 5
}
